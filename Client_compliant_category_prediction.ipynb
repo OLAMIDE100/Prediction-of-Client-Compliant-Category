{
 "cells": [
  {
   "cell_type": "code",
   "execution_count": 1,
   "metadata": {},
   "outputs": [
    {
     "name": "stderr",
     "output_type": "stream",
     "text": [
      "C:\\Users\\OLAMIDE\\anaconda3\\lib\\site-packages\\IPython\\core\\interactiveshell.py:3146: DtypeWarning: Columns (4) have mixed types.Specify dtype option on import or set low_memory=False.\n",
      "  has_raised = await self.run_ast_nodes(code_ast.body, cell_name,\n"
     ]
    },
    {
     "data": {
      "text/plain": [
       "(312912, 14)"
      ]
     },
     "execution_count": 1,
     "metadata": {},
     "output_type": "execute_result"
    }
   ],
   "source": [
    "import pandas as pd\n",
    "data = pd.read_csv(r'C:\\Users\\OLAMIDE\\Desktop\\MACHINE_LEARNING_PROJECTS\\Client_compliant_category_prediction\\CLIENT_COMPLAINT.csv')\n",
    "data.shape"
   ]
  },
  {
   "cell_type": "code",
   "execution_count": 2,
   "metadata": {},
   "outputs": [],
   "source": [
    "data.rename(columns={'Issue':'Consumer_complaint_narrative'}, inplace=True)"
   ]
  },
  {
   "cell_type": "code",
   "execution_count": 3,
   "metadata": {},
   "outputs": [],
   "source": [
    "datatrain = data[data['Consumer_complaint_narrative'].notna()]"
   ]
  },
  {
   "cell_type": "code",
   "execution_count": 4,
   "metadata": {},
   "outputs": [
    {
     "data": {
      "text/html": [
       "<div>\n",
       "<style scoped>\n",
       "    .dataframe tbody tr th:only-of-type {\n",
       "        vertical-align: middle;\n",
       "    }\n",
       "\n",
       "    .dataframe tbody tr th {\n",
       "        vertical-align: top;\n",
       "    }\n",
       "\n",
       "    .dataframe thead th {\n",
       "        text-align: right;\n",
       "    }\n",
       "</style>\n",
       "<table border=\"1\" class=\"dataframe\">\n",
       "  <thead>\n",
       "    <tr style=\"text-align: right;\">\n",
       "      <th></th>\n",
       "      <th>Complaint ID</th>\n",
       "      <th>Product</th>\n",
       "      <th>Sub-product</th>\n",
       "      <th>Consumer_complaint_narrative</th>\n",
       "      <th>Sub-issue</th>\n",
       "      <th>State</th>\n",
       "      <th>ZIP code</th>\n",
       "      <th>Submitted via</th>\n",
       "      <th>Date received</th>\n",
       "      <th>Date sent to company</th>\n",
       "      <th>Company</th>\n",
       "      <th>Company response</th>\n",
       "      <th>Timely response?</th>\n",
       "      <th>Consumer disputed?</th>\n",
       "    </tr>\n",
       "  </thead>\n",
       "  <tbody>\n",
       "    <tr>\n",
       "      <th>0</th>\n",
       "      <td>1114245</td>\n",
       "      <td>Debt collection</td>\n",
       "      <td>Medical</td>\n",
       "      <td>Disclosure verification of debt</td>\n",
       "      <td>Not given enough info to verify debt</td>\n",
       "      <td>FL</td>\n",
       "      <td>32219.0</td>\n",
       "      <td>Web</td>\n",
       "      <td>11/13/2014</td>\n",
       "      <td>11/13/2014</td>\n",
       "      <td>Choice Recovery, Inc.</td>\n",
       "      <td>Closed with explanation</td>\n",
       "      <td>Yes</td>\n",
       "      <td>NaN</td>\n",
       "    </tr>\n",
       "    <tr>\n",
       "      <th>1</th>\n",
       "      <td>1114488</td>\n",
       "      <td>Debt collection</td>\n",
       "      <td>Medical</td>\n",
       "      <td>Disclosure verification of debt</td>\n",
       "      <td>Right to dispute notice not received</td>\n",
       "      <td>TX</td>\n",
       "      <td>75006.0</td>\n",
       "      <td>Web</td>\n",
       "      <td>11/13/2014</td>\n",
       "      <td>11/13/2014</td>\n",
       "      <td>Expert Global Solutions, Inc.</td>\n",
       "      <td>In progress</td>\n",
       "      <td>Yes</td>\n",
       "      <td>NaN</td>\n",
       "    </tr>\n",
       "    <tr>\n",
       "      <th>2</th>\n",
       "      <td>1114255</td>\n",
       "      <td>Bank account or service</td>\n",
       "      <td>Checking account</td>\n",
       "      <td>Deposits and withdrawals</td>\n",
       "      <td>NaN</td>\n",
       "      <td>NY</td>\n",
       "      <td>11102.0</td>\n",
       "      <td>Web</td>\n",
       "      <td>11/13/2014</td>\n",
       "      <td>11/13/2014</td>\n",
       "      <td>FNIS (Fidelity National Information Services, ...</td>\n",
       "      <td>In progress</td>\n",
       "      <td>Yes</td>\n",
       "      <td>NaN</td>\n",
       "    </tr>\n",
       "    <tr>\n",
       "      <th>3</th>\n",
       "      <td>1115106</td>\n",
       "      <td>Debt collection</td>\n",
       "      <td>Other (phone, health club, etc.)</td>\n",
       "      <td>Communication tactics</td>\n",
       "      <td>Frequent or repeated calls</td>\n",
       "      <td>GA</td>\n",
       "      <td>31721.0</td>\n",
       "      <td>Web</td>\n",
       "      <td>11/13/2014</td>\n",
       "      <td>11/13/2014</td>\n",
       "      <td>Expert Global Solutions, Inc.</td>\n",
       "      <td>In progress</td>\n",
       "      <td>Yes</td>\n",
       "      <td>NaN</td>\n",
       "    </tr>\n",
       "    <tr>\n",
       "      <th>4</th>\n",
       "      <td>1115890</td>\n",
       "      <td>Credit reporting</td>\n",
       "      <td>NaN</td>\n",
       "      <td>Incorrect information on credit report</td>\n",
       "      <td>Information is not mine</td>\n",
       "      <td>FL</td>\n",
       "      <td>33461.0</td>\n",
       "      <td>Web</td>\n",
       "      <td>11/12/2014</td>\n",
       "      <td>11/13/2014</td>\n",
       "      <td>TransUnion</td>\n",
       "      <td>In progress</td>\n",
       "      <td>Yes</td>\n",
       "      <td>NaN</td>\n",
       "    </tr>\n",
       "    <tr>\n",
       "      <th>...</th>\n",
       "      <td>...</td>\n",
       "      <td>...</td>\n",
       "      <td>...</td>\n",
       "      <td>...</td>\n",
       "      <td>...</td>\n",
       "      <td>...</td>\n",
       "      <td>...</td>\n",
       "      <td>...</td>\n",
       "      <td>...</td>\n",
       "      <td>...</td>\n",
       "      <td>...</td>\n",
       "      <td>...</td>\n",
       "      <td>...</td>\n",
       "      <td>...</td>\n",
       "    </tr>\n",
       "    <tr>\n",
       "      <th>312907</th>\n",
       "      <td>2042</td>\n",
       "      <td>Credit card</td>\n",
       "      <td>NaN</td>\n",
       "      <td>Credit card protection / Debt protection</td>\n",
       "      <td>NaN</td>\n",
       "      <td>IL</td>\n",
       "      <td>60156.0</td>\n",
       "      <td>Web</td>\n",
       "      <td>11/30/2011</td>\n",
       "      <td>12/01/2011</td>\n",
       "      <td>Citibank</td>\n",
       "      <td>Closed with relief</td>\n",
       "      <td>Yes</td>\n",
       "      <td>No</td>\n",
       "    </tr>\n",
       "    <tr>\n",
       "      <th>312908</th>\n",
       "      <td>2043</td>\n",
       "      <td>Credit card</td>\n",
       "      <td>NaN</td>\n",
       "      <td>Credit reporting</td>\n",
       "      <td>NaN</td>\n",
       "      <td>FL</td>\n",
       "      <td>33764.0</td>\n",
       "      <td>Referral</td>\n",
       "      <td>11/30/2011</td>\n",
       "      <td>11/30/2011</td>\n",
       "      <td>Bank of America</td>\n",
       "      <td>Closed without relief</td>\n",
       "      <td>Yes</td>\n",
       "      <td>No</td>\n",
       "    </tr>\n",
       "    <tr>\n",
       "      <th>312909</th>\n",
       "      <td>2044</td>\n",
       "      <td>Credit card</td>\n",
       "      <td>NaN</td>\n",
       "      <td>Other fee</td>\n",
       "      <td>NaN</td>\n",
       "      <td>CA</td>\n",
       "      <td>94605.0</td>\n",
       "      <td>Web</td>\n",
       "      <td>11/30/2011</td>\n",
       "      <td>12/01/2011</td>\n",
       "      <td>Bank of America</td>\n",
       "      <td>Closed with relief</td>\n",
       "      <td>Yes</td>\n",
       "      <td>No</td>\n",
       "    </tr>\n",
       "    <tr>\n",
       "      <th>312910</th>\n",
       "      <td>2045</td>\n",
       "      <td>Credit card</td>\n",
       "      <td>NaN</td>\n",
       "      <td>Billing disputes</td>\n",
       "      <td>NaN</td>\n",
       "      <td>CA</td>\n",
       "      <td>94305.0</td>\n",
       "      <td>Web</td>\n",
       "      <td>11/30/2011</td>\n",
       "      <td>12/01/2011</td>\n",
       "      <td>Citibank</td>\n",
       "      <td>Closed without relief</td>\n",
       "      <td>Yes</td>\n",
       "      <td>No</td>\n",
       "    </tr>\n",
       "    <tr>\n",
       "      <th>312911</th>\n",
       "      <td>2036</td>\n",
       "      <td>Credit card</td>\n",
       "      <td>NaN</td>\n",
       "      <td>Cash advance</td>\n",
       "      <td>NaN</td>\n",
       "      <td>UT</td>\n",
       "      <td>84523.0</td>\n",
       "      <td>Referral</td>\n",
       "      <td>11/30/2011</td>\n",
       "      <td>11/30/2011</td>\n",
       "      <td>Wells Fargo</td>\n",
       "      <td>Closed without relief</td>\n",
       "      <td>Yes</td>\n",
       "      <td>No</td>\n",
       "    </tr>\n",
       "  </tbody>\n",
       "</table>\n",
       "<p>312908 rows × 14 columns</p>\n",
       "</div>"
      ],
      "text/plain": [
       "        Complaint ID                  Product  \\\n",
       "0            1114245          Debt collection   \n",
       "1            1114488          Debt collection   \n",
       "2            1114255  Bank account or service   \n",
       "3            1115106          Debt collection   \n",
       "4            1115890         Credit reporting   \n",
       "...              ...                      ...   \n",
       "312907          2042              Credit card   \n",
       "312908          2043              Credit card   \n",
       "312909          2044              Credit card   \n",
       "312910          2045              Credit card   \n",
       "312911          2036              Credit card   \n",
       "\n",
       "                             Sub-product  \\\n",
       "0                                Medical   \n",
       "1                                Medical   \n",
       "2                       Checking account   \n",
       "3       Other (phone, health club, etc.)   \n",
       "4                                    NaN   \n",
       "...                                  ...   \n",
       "312907                               NaN   \n",
       "312908                               NaN   \n",
       "312909                               NaN   \n",
       "312910                               NaN   \n",
       "312911                               NaN   \n",
       "\n",
       "                    Consumer_complaint_narrative  \\\n",
       "0                Disclosure verification of debt   \n",
       "1                Disclosure verification of debt   \n",
       "2                       Deposits and withdrawals   \n",
       "3                          Communication tactics   \n",
       "4         Incorrect information on credit report   \n",
       "...                                          ...   \n",
       "312907  Credit card protection / Debt protection   \n",
       "312908                          Credit reporting   \n",
       "312909                                 Other fee   \n",
       "312910                          Billing disputes   \n",
       "312911                              Cash advance   \n",
       "\n",
       "                                   Sub-issue State  ZIP code Submitted via  \\\n",
       "0       Not given enough info to verify debt    FL   32219.0           Web   \n",
       "1       Right to dispute notice not received    TX   75006.0           Web   \n",
       "2                                        NaN    NY   11102.0           Web   \n",
       "3                 Frequent or repeated calls    GA   31721.0           Web   \n",
       "4                    Information is not mine    FL   33461.0           Web   \n",
       "...                                      ...   ...       ...           ...   \n",
       "312907                                   NaN    IL   60156.0           Web   \n",
       "312908                                   NaN    FL   33764.0      Referral   \n",
       "312909                                   NaN    CA   94605.0           Web   \n",
       "312910                                   NaN    CA   94305.0           Web   \n",
       "312911                                   NaN    UT   84523.0      Referral   \n",
       "\n",
       "       Date received Date sent to company  \\\n",
       "0         11/13/2014           11/13/2014   \n",
       "1         11/13/2014           11/13/2014   \n",
       "2         11/13/2014           11/13/2014   \n",
       "3         11/13/2014           11/13/2014   \n",
       "4         11/12/2014           11/13/2014   \n",
       "...              ...                  ...   \n",
       "312907    11/30/2011           12/01/2011   \n",
       "312908    11/30/2011           11/30/2011   \n",
       "312909    11/30/2011           12/01/2011   \n",
       "312910    11/30/2011           12/01/2011   \n",
       "312911    11/30/2011           11/30/2011   \n",
       "\n",
       "                                                  Company  \\\n",
       "0                                   Choice Recovery, Inc.   \n",
       "1                           Expert Global Solutions, Inc.   \n",
       "2       FNIS (Fidelity National Information Services, ...   \n",
       "3                           Expert Global Solutions, Inc.   \n",
       "4                                              TransUnion   \n",
       "...                                                   ...   \n",
       "312907                                           Citibank   \n",
       "312908                                    Bank of America   \n",
       "312909                                    Bank of America   \n",
       "312910                                           Citibank   \n",
       "312911                                        Wells Fargo   \n",
       "\n",
       "               Company response Timely response? Consumer disputed?  \n",
       "0       Closed with explanation              Yes                NaN  \n",
       "1                   In progress              Yes                NaN  \n",
       "2                   In progress              Yes                NaN  \n",
       "3                   In progress              Yes                NaN  \n",
       "4                   In progress              Yes                NaN  \n",
       "...                         ...              ...                ...  \n",
       "312907       Closed with relief              Yes                 No  \n",
       "312908    Closed without relief              Yes                 No  \n",
       "312909       Closed with relief              Yes                 No  \n",
       "312910    Closed without relief              Yes                 No  \n",
       "312911    Closed without relief              Yes                 No  \n",
       "\n",
       "[312908 rows x 14 columns]"
      ]
     },
     "execution_count": 4,
     "metadata": {},
     "output_type": "execute_result"
    }
   ],
   "source": [
    "datatrain"
   ]
  },
  {
   "cell_type": "code",
   "execution_count": 5,
   "metadata": {},
   "outputs": [],
   "source": [
    "import seaborn as sns\n",
    "import matplotlib.pyplot as plt\n",
    "from sklearn.model_selection import train_test_split\n",
    "from sklearn.feature_extraction.text import CountVectorizer\n",
    "from sklearn.feature_extraction.text import TfidfTransformer\n",
    "from sklearn.naive_bayes import MultinomialNB\n",
    "from sklearn.pipeline import make_pipeline\n",
    "model = make_pipeline(CountVectorizer(),TfidfTransformer(), MultinomialNB())"
   ]
  },
  {
   "cell_type": "code",
   "execution_count": 6,
   "metadata": {},
   "outputs": [],
   "source": [
    "featurestrain, featurestest, targettrain, targettest = train_test_split(datatrain['Consumer_complaint_narrative'],\n",
    "                                                                        datatrain['Product'], random_state = 0)"
   ]
  },
  {
   "cell_type": "code",
   "execution_count": 7,
   "metadata": {},
   "outputs": [],
   "source": [
    "model.fit(featurestrain, targettrain)\n",
    "labels = model.predict(featurestest)"
   ]
  },
  {
   "cell_type": "code",
   "execution_count": 8,
   "metadata": {},
   "outputs": [
    {
     "data": {
      "text/plain": [
       "array(['Debt collection', 'Debt collection', 'Mortgage', ..., 'Mortgage',\n",
       "       'Credit card', 'Mortgage'], dtype='<U23')"
      ]
     },
     "execution_count": 8,
     "metadata": {},
     "output_type": "execute_result"
    }
   ],
   "source": [
    "labels"
   ]
  },
  {
   "cell_type": "code",
   "execution_count": 9,
   "metadata": {},
   "outputs": [],
   "source": [
    "def predict_category(s):\n",
    "    pred = model.predict([s])\n",
    "    return print(pred[0])"
   ]
  },
  {
   "cell_type": "code",
   "execution_count": 10,
   "metadata": {},
   "outputs": [
    {
     "name": "stdout",
     "output_type": "stream",
     "text": [
      "Consumer loan\n"
     ]
    }
   ],
   "source": [
    "predict_category(\"I am disputing the inaccurate information the Chex-Systems has on my credit report. I initially submitted a police report on XXXX/XXXX/16 and Chex Systems only deleted the items that I mentioned in the letter and not all the items that were actually listed on the police report. In other words they wanted me to say word for word to them what items were fraudulent. The total disregard of the police report and what accounts that it states that are fraudulent. If they just had paid a little closer attention to the police report I would not been in this position now and they would n't have to research once again. I would like the reported information to be removed : XXXX XXXX XXXX\")"
   ]
  },
  {
   "cell_type": "code",
   "execution_count": 11,
   "metadata": {},
   "outputs": [
    {
     "data": {
      "text/plain": [
       "0.9801858693290041"
      ]
     },
     "execution_count": 11,
     "metadata": {},
     "output_type": "execute_result"
    }
   ],
   "source": [
    "from sklearn.metrics import accuracy_score\n",
    "accuracy_score(targettest, labels)"
   ]
  },
  {
   "cell_type": "code",
   "execution_count": 12,
   "metadata": {},
   "outputs": [
    {
     "name": "stdout",
     "output_type": "stream",
     "text": [
      "Debt collection\n"
     ]
    }
   ],
   "source": [
    "predict_category('This company refuses to provide me verification and validation of debt per my right under the FDCPA. I do not believe this debt is mine.')"
   ]
  }
 ],
 "metadata": {
  "kernelspec": {
   "display_name": "Python 3",
   "language": "python",
   "name": "python3"
  },
  "language_info": {
   "codemirror_mode": {
    "name": "ipython",
    "version": 3
   },
   "file_extension": ".py",
   "mimetype": "text/x-python",
   "name": "python",
   "nbconvert_exporter": "python",
   "pygments_lexer": "ipython3",
   "version": "3.8.5"
  }
 },
 "nbformat": 4,
 "nbformat_minor": 4
}
